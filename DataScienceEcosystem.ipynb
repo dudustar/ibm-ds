{
 "cells": [
  {
   "cell_type": "markdown",
   "id": "d5fec1fb-1da3-412e-8ffe-48451af88c67",
   "metadata": {},
   "source": [
    "# Data Science Tools and Ecosystem"
   ]
  },
  {
   "cell_type": "markdown",
   "id": "9846bc11-60fe-45a3-8b8a-47bcfeb341de",
   "metadata": {},
   "source": [
    "In this notebook, Data Science Tools and Ecosystem are summarized."
   ]
  },
  {
   "cell_type": "markdown",
   "id": "95fe919b-47f8-4bf5-a196-cdd694428d16",
   "metadata": {},
   "source": [
    "**Objectives:**\n",
    "- List popular languages for Data Science\n",
    "- List some libraries in Data Science\n",
    "- Creating tables in Jupyter Notebook\n",
    "- List Data Science tools\n",
    "- Evaluting simple expressions\n"
   ]
  },
  {
   "cell_type": "markdown",
   "id": "8753e248-a6be-4955-99ed-34fe1e798096",
   "metadata": {},
   "source": [
    "Some of the popular languages that Data Scientists use are:\n",
    "1. Python\n",
    "2. R\n",
    "3. Julia"
   ]
  },
  {
   "cell_type": "markdown",
   "id": "81168642-ac48-44e7-bbc3-fb819fb943e9",
   "metadata": {},
   "source": [
    "Some of the commonly used libraries used by Data Scientists include:\n",
    "1. Pandas\n",
    "2. Numpy\n",
    "3. Seaborn"
   ]
  },
  {
   "cell_type": "markdown",
   "id": "bcb20ca6-fb41-4673-8e22-d6ba49d50805",
   "metadata": {},
   "source": [
    "| **Data Science Tools** |\n",
    "| :----------- |\n",
    "| Jupyter Notebook |\n",
    "| IBM Watson |\n",
    "| Github |"
   ]
  },
  {
   "cell_type": "markdown",
   "id": "fc97ea2d-ca5d-45ac-8ca0-8639cf9c2b19",
   "metadata": {},
   "source": [
    "### Below are a few examples of evaluating arithmetic expressions in Python"
   ]
  },
  {
   "cell_type": "code",
   "execution_count": 1,
   "id": "ff0ba215-cdd2-4def-8b38-8e45a603a69f",
   "metadata": {},
   "outputs": [
    {
     "name": "stdout",
     "output_type": "stream",
     "text": [
      "17\n"
     ]
    }
   ],
   "source": [
    "# This a simple arithmetic expression to mutiply then add integers\n",
    "\n",
    "result = (3*4)+5\n",
    "print(result)"
   ]
  },
  {
   "cell_type": "code",
   "execution_count": 2,
   "id": "75f0f162-dd28-44da-8638-1a53aecb49b4",
   "metadata": {},
   "outputs": [
    {
     "name": "stdout",
     "output_type": "stream",
     "text": [
      "3\n"
     ]
    }
   ],
   "source": [
    "# This will convert 200 minutes to hours by diving by 60.\n",
    "\n",
    "minutes_to_convert = 200\n",
    "\n",
    "# get the floor total hours in the minutes\n",
    "hours = minutes_to_convert // 60\n",
    "\n",
    "print(hours)"
   ]
  },
  {
   "cell_type": "markdown",
   "id": "659f0879-3b0c-4738-8050-4331254111d2",
   "metadata": {},
   "source": [
    "## Author\n",
    "Kp Isong\n"
   ]
  }
 ],
 "metadata": {
  "kernelspec": {
   "display_name": "Python 3 (ipykernel)",
   "language": "python",
   "name": "python3"
  },
  "language_info": {
   "codemirror_mode": {
    "name": "ipython",
    "version": 3
   },
   "file_extension": ".py",
   "mimetype": "text/x-python",
   "name": "python",
   "nbconvert_exporter": "python",
   "pygments_lexer": "ipython3",
   "version": "3.9.15"
  }
 },
 "nbformat": 4,
 "nbformat_minor": 5
}
